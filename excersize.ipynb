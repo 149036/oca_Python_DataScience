{
 "cells": [
  {
   "cell_type": "code",
   "execution_count": 1,
   "metadata": {},
   "outputs": [
    {
     "data": {
      "text/plain": [
       "array([0.0869861 , 0.13344906, 0.77055566, 0.5017471 , 0.90368428,\n",
       "       0.58815086, 0.75423218, 0.66601814, 0.24043187, 0.23058452,\n",
       "       0.9769544 , 0.31801688, 0.23573026, 0.7105999 , 0.97358315,\n",
       "       0.77473303, 0.38272425, 0.80648285, 0.95072505, 0.59311214,\n",
       "       0.29045197, 0.83287568, 0.18057756, 0.46744457, 0.46747832,\n",
       "       0.5238961 , 0.59211001, 0.78143508, 0.56323426, 0.06302624,\n",
       "       0.0104534 , 0.7552534 , 0.79814997, 0.25276217, 0.76874845,\n",
       "       0.04820625, 0.60335083, 0.50228893, 0.28011956, 0.14698926,\n",
       "       0.09075662, 0.95027057, 0.30825222, 0.5369899 , 0.49187606,\n",
       "       0.43988748, 0.53041316, 0.65446259, 0.27624506, 0.42628851,\n",
       "       0.11247366, 0.95309812, 0.29274905, 0.6928599 , 0.38918087,\n",
       "       0.70265541, 0.80998171, 0.34745808, 0.23363787, 0.40421883,\n",
       "       0.11390966, 0.8981548 , 0.7721924 , 0.99405537, 0.91930406,\n",
       "       0.28776621, 0.58021433, 0.04626855, 0.78979332, 0.23743146,\n",
       "       0.67354133, 0.78113408, 0.40240226, 0.25891651, 0.40537068,\n",
       "       0.01680003, 0.70976359, 0.04086875, 0.85450022, 0.99588378,\n",
       "       0.87430727, 0.4602308 , 0.98126829, 0.43510782, 0.41403517,\n",
       "       0.63697791, 0.34323623, 0.25148348, 0.99585645, 0.71323161,\n",
       "       0.16041255, 0.6306154 , 0.06843766, 0.89373755, 0.66313906,\n",
       "       0.24153319, 0.8414805 , 0.56119814, 0.88990927, 0.36742146])"
      ]
     },
     "execution_count": 1,
     "metadata": {},
     "output_type": "execute_result"
    }
   ],
   "source": [
    "import numpy as np\n",
    "import pandas as pd\n",
    "import matplotlib.pyplot as plt\n",
    "%matplotlib inline\n",
    "\n",
    "#2\n",
    "data = np.random.random(100)\n",
    "data\n",
    "plt.show()\n"
   ]
  },
  {
   "cell_type": "code",
   "execution_count": 4,
   "metadata": {},
   "outputs": [
    {
     "data": {
      "text/plain": [
       "0     0.086986\n",
       "1     0.133449\n",
       "2     0.770556\n",
       "3     0.501747\n",
       "4     0.903684\n",
       "        ...   \n",
       "95    0.241533\n",
       "96    0.841480\n",
       "97    0.561198\n",
       "98    0.889909\n",
       "99    0.367421\n",
       "Length: 100, dtype: float64"
      ]
     },
     "execution_count": 4,
     "metadata": {},
     "output_type": "execute_result"
    }
   ],
   "source": [
    "#3\n",
    "data2 = pd.Series(data)\n",
    "data2\n",
    "plt.show()\n"
   ]
  },
  {
   "cell_type": "code",
   "execution_count": 10,
   "metadata": {},
   "outputs": [
    {
     "data": {
      "text/html": [
       "<div>\n",
       "<style scoped>\n",
       "    .dataframe tbody tr th:only-of-type {\n",
       "        vertical-align: middle;\n",
       "    }\n",
       "\n",
       "    .dataframe tbody tr th {\n",
       "        vertical-align: top;\n",
       "    }\n",
       "\n",
       "    .dataframe thead th {\n",
       "        text-align: right;\n",
       "    }\n",
       "</style>\n",
       "<table border=\"1\" class=\"dataframe\">\n",
       "  <thead>\n",
       "    <tr style=\"text-align: right;\">\n",
       "      <th></th>\n",
       "      <th>data</th>\n",
       "    </tr>\n",
       "  </thead>\n",
       "  <tbody>\n",
       "    <tr>\n",
       "      <th>0</th>\n",
       "      <td>0.086986</td>\n",
       "    </tr>\n",
       "    <tr>\n",
       "      <th>1</th>\n",
       "      <td>0.133449</td>\n",
       "    </tr>\n",
       "    <tr>\n",
       "      <th>2</th>\n",
       "      <td>0.770556</td>\n",
       "    </tr>\n",
       "    <tr>\n",
       "      <th>3</th>\n",
       "      <td>0.501747</td>\n",
       "    </tr>\n",
       "    <tr>\n",
       "      <th>4</th>\n",
       "      <td>0.903684</td>\n",
       "    </tr>\n",
       "    <tr>\n",
       "      <th>...</th>\n",
       "      <td>...</td>\n",
       "    </tr>\n",
       "    <tr>\n",
       "      <th>95</th>\n",
       "      <td>0.241533</td>\n",
       "    </tr>\n",
       "    <tr>\n",
       "      <th>96</th>\n",
       "      <td>0.841480</td>\n",
       "    </tr>\n",
       "    <tr>\n",
       "      <th>97</th>\n",
       "      <td>0.561198</td>\n",
       "    </tr>\n",
       "    <tr>\n",
       "      <th>98</th>\n",
       "      <td>0.889909</td>\n",
       "    </tr>\n",
       "    <tr>\n",
       "      <th>99</th>\n",
       "      <td>0.367421</td>\n",
       "    </tr>\n",
       "  </tbody>\n",
       "</table>\n",
       "<p>100 rows × 1 columns</p>\n",
       "</div>"
      ],
      "text/plain": [
       "        data\n",
       "0   0.086986\n",
       "1   0.133449\n",
       "2   0.770556\n",
       "3   0.501747\n",
       "4   0.903684\n",
       "..       ...\n",
       "95  0.241533\n",
       "96  0.841480\n",
       "97  0.561198\n",
       "98  0.889909\n",
       "99  0.367421\n",
       "\n",
       "[100 rows x 1 columns]"
      ]
     },
     "execution_count": 10,
     "metadata": {},
     "output_type": "execute_result"
    }
   ],
   "source": [
    "#4\n",
    "data3 = pd.DataFrame({'data': data2})\n",
    "data3\n",
    "plt.show()\n"
   ]
  },
  {
   "cell_type": "code",
   "execution_count": 13,
   "metadata": {},
   "outputs": [
    {
     "data": {
      "text/html": [
       "<div>\n",
       "<style scoped>\n",
       "    .dataframe tbody tr th:only-of-type {\n",
       "        vertical-align: middle;\n",
       "    }\n",
       "\n",
       "    .dataframe tbody tr th {\n",
       "        vertical-align: top;\n",
       "    }\n",
       "\n",
       "    .dataframe thead th {\n",
       "        text-align: right;\n",
       "    }\n",
       "</style>\n",
       "<table border=\"1\" class=\"dataframe\">\n",
       "  <thead>\n",
       "    <tr style=\"text-align: right;\">\n",
       "      <th></th>\n",
       "      <th>data</th>\n",
       "    </tr>\n",
       "  </thead>\n",
       "  <tbody>\n",
       "    <tr>\n",
       "      <th>count</th>\n",
       "      <td>100.000000</td>\n",
       "    </tr>\n",
       "    <tr>\n",
       "      <th>mean</th>\n",
       "      <td>0.523730</td>\n",
       "    </tr>\n",
       "    <tr>\n",
       "      <th>std</th>\n",
       "      <td>0.288715</td>\n",
       "    </tr>\n",
       "    <tr>\n",
       "      <th>min</th>\n",
       "      <td>0.010453</td>\n",
       "    </tr>\n",
       "    <tr>\n",
       "      <th>25%</th>\n",
       "      <td>0.279151</td>\n",
       "    </tr>\n",
       "    <tr>\n",
       "      <th>50%</th>\n",
       "      <td>0.527155</td>\n",
       "    </tr>\n",
       "    <tr>\n",
       "      <th>75%</th>\n",
       "      <td>0.772828</td>\n",
       "    </tr>\n",
       "    <tr>\n",
       "      <th>max</th>\n",
       "      <td>0.995884</td>\n",
       "    </tr>\n",
       "  </tbody>\n",
       "</table>\n",
       "</div>"
      ],
      "text/plain": [
       "             data\n",
       "count  100.000000\n",
       "mean     0.523730\n",
       "std      0.288715\n",
       "min      0.010453\n",
       "25%      0.279151\n",
       "50%      0.527155\n",
       "75%      0.772828\n",
       "max      0.995884"
      ]
     },
     "execution_count": 13,
     "metadata": {},
     "output_type": "execute_result"
    }
   ],
   "source": [
    "#5,6\n",
    "data4 = data3.describe()\n",
    "data4\n",
    "plt.show()"
   ]
  },
  {
   "cell_type": "code",
   "execution_count": 14,
   "metadata": {},
   "outputs": [],
   "source": [
    "#7\n",
    "data4.to_csv('data4_describe.csv')"
   ]
  },
  {
   "cell_type": "code",
   "execution_count": 33,
   "metadata": {},
   "outputs": [
    {
     "data": {
      "image/png": "[encoded data removed]",
      "text/plain": [
       "<Figure size 640x480 with 1 Axes>"
      ]
     },
     "metadata": {},
     "output_type": "display_data"
    }
   ],
   "source": [
    "#8,9\n",
    "fig = plt.figure()\n",
    "data6 = np.random.random(100)\n",
    "data7 = np.random.random(100)\n",
    "data8 = plt.scatter(data6, data7, s = 10, c = \"red\" )\n",
    "data8\n",
    "plt.show()\n",
    "fig.savefig('data8.png')\n"
   ]
  }
 ],
 "metadata": {
  "kernelspec": {
   "display_name": "venv",
   "language": "python",
   "name": "python3"
  },
  "language_info": {
   "codemirror_mode": {
    "name": "ipython",
    "version": 3
   },
   "file_extension": ".py",
   "mimetype": "text/x-python",
   "name": "python",
   "nbconvert_exporter": "python",
   "pygments_lexer": "ipython3",
   "version": "3.10.6"
  },
  "orig_nbformat": 4
 },
 "nbformat": 4,
 "nbformat_minor": 2
}
